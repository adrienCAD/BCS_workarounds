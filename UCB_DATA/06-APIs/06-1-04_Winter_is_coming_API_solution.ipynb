{
 "cells": [
  {
   "cell_type": "code",
   "execution_count": 75,
   "metadata": {},
   "outputs": [],
   "source": [
    "# Dependencies\n",
    "import requests\n",
    "import json\n",
    "import pandas as pd\n",
    "import matplotlib as plt"
   ]
  },
  {
   "cell_type": "code",
   "execution_count": 76,
   "metadata": {},
   "outputs": [],
   "source": [
    "# URL for GET requests to retrieve Game of Throne character data\n",
    "base_url = \"https://anapioficeandfire.com/api/characters/\""
   ]
  },
  {
   "cell_type": "code",
   "execution_count": 77,
   "metadata": {},
   "outputs": [
    {
     "name": "stdout",
     "output_type": "stream",
     "text": [
      "https://anapioficeandfire.com/api/characters/583\n"
     ]
    }
   ],
   "source": [
    "# Create a url with a specific character id\n",
    "character_id = '583'\n",
    "url = base_url + character_id\n",
    "print(url)"
   ]
  },
  {
   "cell_type": "code",
   "execution_count": 78,
   "metadata": {},
   "outputs": [
    {
     "name": "stdout",
     "output_type": "stream",
     "text": [
      "https://anapioficeandfire.com/api/characters/583\n"
     ]
    }
   ],
   "source": [
    "# Perform a get request for this character\n",
    "response = requests.get(url)\n",
    "print(response.url)"
   ]
  },
  {
   "cell_type": "code",
   "execution_count": 79,
   "metadata": {},
   "outputs": [
    {
     "name": "stdout",
     "output_type": "stream",
     "text": [
      "{\n",
      "    \"aliases\": [\n",
      "        \"Lord Snow\",\n",
      "        \"Ned Stark's Bastard\",\n",
      "        \"The Snow of Winterfell\",\n",
      "        \"The Crow-Come-Over\",\n",
      "        \"The 998th Lord Commander of the Night's Watch\",\n",
      "        \"The Bastard of Winterfell\",\n",
      "        \"The Black Bastard of the Wall\",\n",
      "        \"Lord Crow\"\n",
      "    ],\n",
      "    \"allegiances\": [\n",
      "        \"https://anapioficeandfire.com/api/houses/362\"\n",
      "    ],\n",
      "    \"books\": [\n",
      "        \"https://anapioficeandfire.com/api/books/5\"\n",
      "    ],\n",
      "    \"born\": \"In 283 AC\",\n",
      "    \"culture\": \"Northmen\",\n",
      "    \"died\": \"\",\n",
      "    \"father\": \"\",\n",
      "    \"gender\": \"Male\",\n",
      "    \"mother\": \"\",\n",
      "    \"name\": \"Jon Snow\",\n",
      "    \"playedBy\": [\n",
      "        \"Kit Harington\"\n",
      "    ],\n",
      "    \"povBooks\": [\n",
      "        \"https://anapioficeandfire.com/api/books/1\",\n",
      "        \"https://anapioficeandfire.com/api/books/2\",\n",
      "        \"https://anapioficeandfire.com/api/books/3\",\n",
      "        \"https://anapioficeandfire.com/api/books/8\"\n",
      "    ],\n",
      "    \"spouse\": \"\",\n",
      "    \"titles\": [\n",
      "        \"Lord Commander of the Night's Watch\"\n",
      "    ],\n",
      "    \"tvSeries\": [\n",
      "        \"Season 1\",\n",
      "        \"Season 2\",\n",
      "        \"Season 3\",\n",
      "        \"Season 4\",\n",
      "        \"Season 5\",\n",
      "        \"Season 6\"\n",
      "    ],\n",
      "    \"url\": \"https://anapioficeandfire.com/api/characters/583\"\n",
      "}\n"
     ]
    }
   ],
   "source": [
    "# Storing the JSON response within a variable\n",
    "data = response.json()\n",
    "# Use json.dumps to print the json\n",
    "print(json.dumps(data, indent=4, sort_keys=True))"
   ]
  },
  {
   "cell_type": "code",
   "execution_count": 80,
   "metadata": {},
   "outputs": [
    {
     "name": "stdout",
     "output_type": "stream",
     "text": [
      "url\n",
      "name\n",
      "gender\n",
      "culture\n",
      "born\n",
      "died\n",
      "titles\n",
      "aliases\n",
      "father\n",
      "mother\n",
      "spouse\n",
      "allegiances\n",
      "books\n",
      "povBooks\n",
      "tvSeries\n",
      "playedBy\n"
     ]
    }
   ],
   "source": [
    "for key in data.keys():\n",
    "    print(key)"
   ]
  },
  {
   "cell_type": "code",
   "execution_count": 81,
   "metadata": {},
   "outputs": [
    {
     "name": "stdout",
     "output_type": "stream",
     "text": [
      "Jon Snow\n"
     ]
    }
   ],
   "source": [
    "# Print the name of the character retrieved\n",
    "character_name = data[\"name\"]\n",
    "print(character_name)"
   ]
  },
  {
   "cell_type": "code",
   "execution_count": 82,
   "metadata": {},
   "outputs": [
    {
     "name": "stdout",
     "output_type": "stream",
     "text": [
      "6\n"
     ]
    }
   ],
   "source": [
    "# Print the number of GOT tv series that they were in (hint: use len())\n",
    "tv_series_number = len(data[\"tvSeries\"])\n",
    "print(tv_series_number)"
   ]
  },
  {
   "cell_type": "code",
   "execution_count": 83,
   "metadata": {},
   "outputs": [
    {
     "data": {
      "text/plain": [
       "{'url': 'https://anapioficeandfire.com/api/houses/362',\n",
       " 'name': 'House Stark of Winterfell',\n",
       " 'region': 'The North',\n",
       " 'coatOfArms': 'A running grey direwolf, on an ice-white field',\n",
       " 'words': 'Winter is Coming',\n",
       " 'titles': ['King in the North',\n",
       "  'Lord of Winterfell',\n",
       "  'Warden of the North',\n",
       "  'King of the Trident'],\n",
       " 'seats': ['Scattered (formerly Winterfell)'],\n",
       " 'currentLord': '',\n",
       " 'heir': '',\n",
       " 'overlord': 'https://anapioficeandfire.com/api/houses/16',\n",
       " 'founded': 'Age of Heroes',\n",
       " 'founder': 'https://anapioficeandfire.com/api/characters/209',\n",
       " 'diedOut': '',\n",
       " 'ancestralWeapons': ['Ice'],\n",
       " 'cadetBranches': ['https://anapioficeandfire.com/api/houses/170',\n",
       "  'https://anapioficeandfire.com/api/houses/215'],\n",
       " 'swornMembers': ['https://anapioficeandfire.com/api/characters/2',\n",
       "  'https://anapioficeandfire.com/api/characters/20',\n",
       "  'https://anapioficeandfire.com/api/characters/97',\n",
       "  'https://anapioficeandfire.com/api/characters/98',\n",
       "  'https://anapioficeandfire.com/api/characters/136',\n",
       "  'https://anapioficeandfire.com/api/characters/143',\n",
       "  'https://anapioficeandfire.com/api/characters/148',\n",
       "  'https://anapioficeandfire.com/api/characters/170',\n",
       "  'https://anapioficeandfire.com/api/characters/181',\n",
       "  'https://anapioficeandfire.com/api/characters/192',\n",
       "  'https://anapioficeandfire.com/api/characters/206',\n",
       "  'https://anapioficeandfire.com/api/characters/207',\n",
       "  'https://anapioficeandfire.com/api/characters/208',\n",
       "  'https://anapioficeandfire.com/api/characters/209',\n",
       "  'https://anapioficeandfire.com/api/characters/210',\n",
       "  'https://anapioficeandfire.com/api/characters/212',\n",
       "  'https://anapioficeandfire.com/api/characters/216',\n",
       "  'https://anapioficeandfire.com/api/characters/232',\n",
       "  'https://anapioficeandfire.com/api/characters/259',\n",
       "  'https://anapioficeandfire.com/api/characters/324',\n",
       "  'https://anapioficeandfire.com/api/characters/339',\n",
       "  'https://anapioficeandfire.com/api/characters/340',\n",
       "  'https://anapioficeandfire.com/api/characters/349',\n",
       "  'https://anapioficeandfire.com/api/characters/351',\n",
       "  'https://anapioficeandfire.com/api/characters/354',\n",
       "  'https://anapioficeandfire.com/api/characters/389',\n",
       "  'https://anapioficeandfire.com/api/characters/461',\n",
       "  'https://anapioficeandfire.com/api/characters/561',\n",
       "  'https://anapioficeandfire.com/api/characters/583',\n",
       "  'https://anapioficeandfire.com/api/characters/584',\n",
       "  'https://anapioficeandfire.com/api/characters/589',\n",
       "  'https://anapioficeandfire.com/api/characters/591',\n",
       "  'https://anapioficeandfire.com/api/characters/593',\n",
       "  'https://anapioficeandfire.com/api/characters/603',\n",
       "  'https://anapioficeandfire.com/api/characters/648',\n",
       "  'https://anapioficeandfire.com/api/characters/668',\n",
       "  'https://anapioficeandfire.com/api/characters/716',\n",
       "  'https://anapioficeandfire.com/api/characters/737',\n",
       "  'https://anapioficeandfire.com/api/characters/777',\n",
       "  'https://anapioficeandfire.com/api/characters/887',\n",
       "  'https://anapioficeandfire.com/api/characters/891',\n",
       "  'https://anapioficeandfire.com/api/characters/911',\n",
       "  'https://anapioficeandfire.com/api/characters/912',\n",
       "  'https://anapioficeandfire.com/api/characters/916',\n",
       "  'https://anapioficeandfire.com/api/characters/917',\n",
       "  'https://anapioficeandfire.com/api/characters/918',\n",
       "  'https://anapioficeandfire.com/api/characters/957',\n",
       "  'https://anapioficeandfire.com/api/characters/1101',\n",
       "  'https://anapioficeandfire.com/api/characters/1111',\n",
       "  'https://anapioficeandfire.com/api/characters/1148',\n",
       "  'https://anapioficeandfire.com/api/characters/1158',\n",
       "  'https://anapioficeandfire.com/api/characters/1175',\n",
       "  'https://anapioficeandfire.com/api/characters/1185',\n",
       "  'https://anapioficeandfire.com/api/characters/1190',\n",
       "  'https://anapioficeandfire.com/api/characters/1254',\n",
       "  'https://anapioficeandfire.com/api/characters/1260',\n",
       "  'https://anapioficeandfire.com/api/characters/1326',\n",
       "  'https://anapioficeandfire.com/api/characters/1336',\n",
       "  'https://anapioficeandfire.com/api/characters/1383',\n",
       "  'https://anapioficeandfire.com/api/characters/1396',\n",
       "  'https://anapioficeandfire.com/api/characters/1407',\n",
       "  'https://anapioficeandfire.com/api/characters/1488',\n",
       "  'https://anapioficeandfire.com/api/characters/1489',\n",
       "  'https://anapioficeandfire.com/api/characters/1499',\n",
       "  'https://anapioficeandfire.com/api/characters/1515',\n",
       "  'https://anapioficeandfire.com/api/characters/1526',\n",
       "  'https://anapioficeandfire.com/api/characters/1565',\n",
       "  'https://anapioficeandfire.com/api/characters/1602',\n",
       "  'https://anapioficeandfire.com/api/characters/1620',\n",
       "  'https://anapioficeandfire.com/api/characters/1649',\n",
       "  'https://anapioficeandfire.com/api/characters/1650',\n",
       "  'https://anapioficeandfire.com/api/characters/1706',\n",
       "  'https://anapioficeandfire.com/api/characters/1737',\n",
       "  'https://anapioficeandfire.com/api/characters/1749',\n",
       "  'https://anapioficeandfire.com/api/characters/1787',\n",
       "  'https://anapioficeandfire.com/api/characters/1796',\n",
       "  'https://anapioficeandfire.com/api/characters/1816',\n",
       "  'https://anapioficeandfire.com/api/characters/1819',\n",
       "  'https://anapioficeandfire.com/api/characters/1843',\n",
       "  'https://anapioficeandfire.com/api/characters/1946',\n",
       "  'https://anapioficeandfire.com/api/characters/1950',\n",
       "  'https://anapioficeandfire.com/api/characters/1979',\n",
       "  'https://anapioficeandfire.com/api/characters/2019',\n",
       "  'https://anapioficeandfire.com/api/characters/2020',\n",
       "  'https://anapioficeandfire.com/api/characters/2037',\n",
       "  'https://anapioficeandfire.com/api/characters/2068',\n",
       "  'https://anapioficeandfire.com/api/characters/2089',\n",
       "  'https://anapioficeandfire.com/api/characters/2119']}"
      ]
     },
     "execution_count": 83,
     "metadata": {},
     "output_type": "execute_result"
    }
   ],
   "source": [
    "# Request the Books URI found in the povBooks property of the\n",
    "# previously retreived json, then use the response to figure out what this \n",
    "# character second book appearance was\n",
    "first_allegiance_url = data[\"allegiances\"][0]\n",
    "allegiance_response = requests.get(first_allegiance_url ).json()\n",
    "allegiance_response"
   ]
  },
  {
   "cell_type": "code",
   "execution_count": 84,
   "metadata": {},
   "outputs": [
    {
     "name": "stdout",
     "output_type": "stream",
     "text": [
      "Their coat of arms description: A running grey direwolf, on an ice-white field\n"
     ]
    }
   ],
   "source": [
    "# Print the description of the coat of arms of the second allegiance\n",
    "coat_of_arms = allegiance_response[\"coatOfArms\"]\n",
    "print(f\"Their coat of arms description: {coat_of_arms}\")"
   ]
  },
  {
   "cell_type": "code",
   "execution_count": 85,
   "metadata": {},
   "outputs": [
    {
     "name": "stdout",
     "output_type": "stream",
     "text": [
      "Jon Snow's allegiance cadet branches are:\n",
      "[\"House Greystark of Wolf's Den\", 'House Karstark of Karhold']\n"
     ]
    }
   ],
   "source": [
    "# BONUS\n",
    "branches = []\n",
    "\n",
    "for branch in allegiance_response['cadetBranches']:\n",
    "    cur_branch = requests.get(branch).json()\n",
    "    branch_name = cur_branch[\"name\"]\n",
    "    branches.append(branch_name)\n",
    "    \n",
    "print(f\"{character_name}'s allegiance cadet branches are:\")\n",
    "print(branches)"
   ]
  },
  {
   "cell_type": "code",
   "execution_count": 86,
   "metadata": {},
   "outputs": [],
   "source": [
    "branches_df = pd.DataFrame({\"houses\":branches,\"number of members\":(12,36)})\n"
   ]
  },
  {
   "cell_type": "code",
   "execution_count": 87,
   "metadata": {},
   "outputs": [],
   "source": [
    "branches_df.set_index('houses', inplace=True)"
   ]
  },
  {
   "cell_type": "code",
   "execution_count": 94,
   "metadata": {},
   "outputs": [
    {
     "data": {
      "text/plain": [
       "<Axes: title={'center': 'number of members by house'}, xlabel='houses', ylabel='quantity of members'>"
      ]
     },
     "execution_count": 94,
     "metadata": {},
     "output_type": "execute_result"
    },
    {
     "data": {
      "image/png": "[encoded data removed]",
      "text/plain": [
       "<Figure size 1000x600 with 1 Axes>"
      ]
     },
     "metadata": {},
     "output_type": "display_data"
    }
   ],
   "source": [
    "branches_df['number of members'].plot(kind='bar', \n",
    "                                      figsize=(10,6), ylabel= \"quantity of members\", \n",
    "                                      title = \"number of members by house\", rot = 45)\n"
   ]
  },
  {
   "cell_type": "code",
   "execution_count": null,
   "metadata": {},
   "outputs": [],
   "source": []
  }
 ],
 "metadata": {
  "kernelspec": {
   "display_name": "Python 3 (ipykernel)",
   "language": "python",
   "name": "python3"
  },
  "language_info": {
   "codemirror_mode": {
    "name": "ipython",
    "version": 3
   },
   "file_extension": ".py",
   "mimetype": "text/x-python",
   "name": "python",
   "nbconvert_exporter": "python",
   "pygments_lexer": "ipython3",
   "version": "3.10.11"
  },
  "varInspector": {
   "cols": {
    "lenName": 16,
    "lenType": 16,
    "lenVar": 40
   },
   "kernels_config": {
    "python": {
     "delete_cmd_postfix": "",
     "delete_cmd_prefix": "del ",
     "library": "var_list.py",
     "varRefreshCmd": "print(var_dic_list())"
    },
    "r": {
     "delete_cmd_postfix": ") ",
     "delete_cmd_prefix": "rm(",
     "library": "var_list.r",
     "varRefreshCmd": "cat(var_dic_list()) "
    }
   },
   "types_to_exclude": [
    "module",
    "function",
    "builtin_function_or_method",
    "instance",
    "_Feature"
   ],
   "window_display": false
  }
 },
 "nbformat": 4,
 "nbformat_minor": 2
}
